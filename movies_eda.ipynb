{
  "nbformat": 4,
  "nbformat_minor": 0,
  "metadata": {
    "colab": {
      "name": "movies_eda.ipynb",
      "provenance": [],
      "collapsed_sections": [],
      "include_colab_link": true
    },
    "kernelspec": {
      "name": "python3",
      "display_name": "Python 3"
    }
  },
  "cells": [
    {
      "cell_type": "markdown",
      "metadata": {
        "id": "view-in-github",
        "colab_type": "text"
      },
      "source": [
        "<a href=\"https://colab.research.google.com/github/saurabhgssingh/ANZ-Virtual-Internship/blob/master/movies_eda.ipynb\" target=\"_parent\"><img src=\"https://colab.research.google.com/assets/colab-badge.svg\" alt=\"Open In Colab\"/></a>"
      ]
    },
    {
      "cell_type": "code",
      "metadata": {
        "id": "HIWq_M7_lWTw",
        "colab_type": "code",
        "colab": {
          "base_uri": "https://localhost:8080/",
          "height": 70
        },
        "outputId": "ef03aff4-5104-4d82-d526-662183a54e77"
      },
      "source": [
        "import pandas as pd\n",
        "import numpy as np\n",
        "import matplotlib.pyplot as plt\n",
        "import seaborn as sns\n",
        "sns.set()\n",
        "%matplotlib inline"
      ],
      "execution_count": null,
      "outputs": [
        {
          "output_type": "stream",
          "text": [
            "/usr/local/lib/python3.6/dist-packages/statsmodels/tools/_testing.py:19: FutureWarning: pandas.util.testing is deprecated. Use the functions in the public API at pandas.testing instead.\n",
            "  import pandas.util.testing as tm\n"
          ],
          "name": "stderr"
        }
      ]
    },
    {
      "cell_type": "code",
      "metadata": {
        "id": "V2e6zjw-mbX9",
        "colab_type": "code",
        "colab": {}
      },
      "source": [
        "import plotly.express as py"
      ],
      "execution_count": null,
      "outputs": []
    },
    {
      "cell_type": "code",
      "metadata": {
        "id": "b2fWnEjrmehc",
        "colab_type": "code",
        "colab": {
          "base_uri": "https://localhost:8080/",
          "height": 702
        },
        "outputId": "cfa644f0-264c-47ea-d6a3-7efee9f510d6"
      },
      "source": [
        "movies=pd.read_csv(\"/content/drive/My Drive/Incubator/movies.csv\")\n",
        "movies.head()"
      ],
      "execution_count": null,
      "outputs": [
        {
          "output_type": "execute_result",
          "data": {
            "text/html": [
              "<div>\n",
              "<style scoped>\n",
              "    .dataframe tbody tr th:only-of-type {\n",
              "        vertical-align: middle;\n",
              "    }\n",
              "\n",
              "    .dataframe tbody tr th {\n",
              "        vertical-align: top;\n",
              "    }\n",
              "\n",
              "    .dataframe thead th {\n",
              "        text-align: right;\n",
              "    }\n",
              "</style>\n",
              "<table border=\"1\" class=\"dataframe\">\n",
              "  <thead>\n",
              "    <tr style=\"text-align: right;\">\n",
              "      <th></th>\n",
              "      <th>id</th>\n",
              "      <th>title</th>\n",
              "      <th>tagline</th>\n",
              "      <th>description</th>\n",
              "      <th>genres</th>\n",
              "      <th>keywords</th>\n",
              "      <th>date</th>\n",
              "      <th>collection</th>\n",
              "      <th>runtime</th>\n",
              "      <th>revenue</th>\n",
              "      <th>budget</th>\n",
              "      <th>director</th>\n",
              "      <th>cast</th>\n",
              "      <th>production_companies</th>\n",
              "      <th>production_countries</th>\n",
              "      <th>popularity</th>\n",
              "      <th>average_vote</th>\n",
              "      <th>num_votes</th>\n",
              "      <th>language</th>\n",
              "      <th>imdb_id</th>\n",
              "      <th>poster_url</th>\n",
              "    </tr>\n",
              "  </thead>\n",
              "  <tbody>\n",
              "    <tr>\n",
              "      <th>0</th>\n",
              "      <td>862</td>\n",
              "      <td>Toy Story</td>\n",
              "      <td>NaN</td>\n",
              "      <td>Led by Woody, Andy's toys live happily in his ...</td>\n",
              "      <td>animation, comedy, family</td>\n",
              "      <td>jealousy, toy, boy, friendship, friends, rival...</td>\n",
              "      <td>1995-10-30</td>\n",
              "      <td>Toy Story Collection</td>\n",
              "      <td>81.0</td>\n",
              "      <td>373554033.0</td>\n",
              "      <td>30000000</td>\n",
              "      <td>John Lasseter</td>\n",
              "      <td>Tom Hanks, Tim Allen, Don Rickles, Jim Varney,...</td>\n",
              "      <td>Pixar Animation Studios</td>\n",
              "      <td>United States of America</td>\n",
              "      <td>21.946943</td>\n",
              "      <td>7.7</td>\n",
              "      <td>5415.0</td>\n",
              "      <td>en</td>\n",
              "      <td>tt0114709</td>\n",
              "      <td>/rhIRbceoE9lR4veEXuwCC2wARtG.jpg</td>\n",
              "    </tr>\n",
              "    <tr>\n",
              "      <th>1</th>\n",
              "      <td>8844</td>\n",
              "      <td>Jumanji</td>\n",
              "      <td>Roll the dice and unleash the excitement!</td>\n",
              "      <td>When siblings Judy and Peter discover an encha...</td>\n",
              "      <td>adventure, fantasy, family</td>\n",
              "      <td>board game, disappearance, based on children's...</td>\n",
              "      <td>1995-12-15</td>\n",
              "      <td>NaN</td>\n",
              "      <td>104.0</td>\n",
              "      <td>262797249.0</td>\n",
              "      <td>65000000</td>\n",
              "      <td>Joe Johnston</td>\n",
              "      <td>Robin Williams, Jonathan Hyde, Kirsten Dunst, ...</td>\n",
              "      <td>TriStar Pictures, Teitler Film, Interscope Com...</td>\n",
              "      <td>United States of America</td>\n",
              "      <td>17.015539</td>\n",
              "      <td>6.9</td>\n",
              "      <td>2413.0</td>\n",
              "      <td>en</td>\n",
              "      <td>tt0113497</td>\n",
              "      <td>/vzmL6fP7aPKNKPRTFnZmiUfciyV.jpg</td>\n",
              "    </tr>\n",
              "    <tr>\n",
              "      <th>2</th>\n",
              "      <td>15602</td>\n",
              "      <td>Grumpier Old Men</td>\n",
              "      <td>Still Yelling. Still Fighting. Still Ready for...</td>\n",
              "      <td>A family wedding reignites the ancient feud be...</td>\n",
              "      <td>romance, comedy</td>\n",
              "      <td>fishing, best friend, duringcreditsstinger, ol...</td>\n",
              "      <td>1995-12-22</td>\n",
              "      <td>Grumpy Old Men Collection</td>\n",
              "      <td>101.0</td>\n",
              "      <td>0.0</td>\n",
              "      <td>0</td>\n",
              "      <td>Howard Deutch</td>\n",
              "      <td>Walter Matthau, Jack Lemmon, Ann-Margret, Soph...</td>\n",
              "      <td>Warner Bros., Lancaster Gate</td>\n",
              "      <td>United States of America</td>\n",
              "      <td>11.712900</td>\n",
              "      <td>6.5</td>\n",
              "      <td>92.0</td>\n",
              "      <td>en</td>\n",
              "      <td>tt0113228</td>\n",
              "      <td>/6ksm1sjKMFLbO7UY2i6G1ju9SML.jpg</td>\n",
              "    </tr>\n",
              "    <tr>\n",
              "      <th>3</th>\n",
              "      <td>31357</td>\n",
              "      <td>Waiting to Exhale</td>\n",
              "      <td>Friends are the people who let you be yourself...</td>\n",
              "      <td>Cheated on, mistreated and stepped on, the wom...</td>\n",
              "      <td>comedy, drama, romance</td>\n",
              "      <td>based on novel, interracial relationship, sing...</td>\n",
              "      <td>1995-12-22</td>\n",
              "      <td>NaN</td>\n",
              "      <td>127.0</td>\n",
              "      <td>81452156.0</td>\n",
              "      <td>16000000</td>\n",
              "      <td>Forest Whitaker</td>\n",
              "      <td>Whitney Houston, Angela Bassett, Loretta Devin...</td>\n",
              "      <td>Twentieth Century Fox Film Corporation</td>\n",
              "      <td>United States of America</td>\n",
              "      <td>3.859495</td>\n",
              "      <td>6.1</td>\n",
              "      <td>34.0</td>\n",
              "      <td>en</td>\n",
              "      <td>tt0114885</td>\n",
              "      <td>/16XOMpEaLWkrcPqSQqhTmeJuqQl.jpg</td>\n",
              "    </tr>\n",
              "    <tr>\n",
              "      <th>4</th>\n",
              "      <td>11862</td>\n",
              "      <td>Father of the Bride Part II</td>\n",
              "      <td>Just When His World Is Back To Normal... He's ...</td>\n",
              "      <td>Just when George Banks has recovered from his ...</td>\n",
              "      <td>comedy</td>\n",
              "      <td>baby, midlife crisis, confidence, aging, daugh...</td>\n",
              "      <td>1995-02-10</td>\n",
              "      <td>Father of the Bride Collection</td>\n",
              "      <td>106.0</td>\n",
              "      <td>76578911.0</td>\n",
              "      <td>0</td>\n",
              "      <td>Charles Shyer</td>\n",
              "      <td>Steve Martin, Diane Keaton, Martin Short, Kimb...</td>\n",
              "      <td>Sandollar Productions, Touchstone Pictures</td>\n",
              "      <td>United States of America</td>\n",
              "      <td>8.387519</td>\n",
              "      <td>5.7</td>\n",
              "      <td>173.0</td>\n",
              "      <td>en</td>\n",
              "      <td>tt0113041</td>\n",
              "      <td>/e64sOI48hQXyru7naBFyssKFxVd.jpg</td>\n",
              "    </tr>\n",
              "  </tbody>\n",
              "</table>\n",
              "</div>"
            ],
            "text/plain": [
              "      id  ...                        poster_url\n",
              "0    862  ...  /rhIRbceoE9lR4veEXuwCC2wARtG.jpg\n",
              "1   8844  ...  /vzmL6fP7aPKNKPRTFnZmiUfciyV.jpg\n",
              "2  15602  ...  /6ksm1sjKMFLbO7UY2i6G1ju9SML.jpg\n",
              "3  31357  ...  /16XOMpEaLWkrcPqSQqhTmeJuqQl.jpg\n",
              "4  11862  ...  /e64sOI48hQXyru7naBFyssKFxVd.jpg\n",
              "\n",
              "[5 rows x 21 columns]"
            ]
          },
          "metadata": {
            "tags": []
          },
          "execution_count": 4
        }
      ]
    },
    {
      "cell_type": "code",
      "metadata": {
        "id": "DVnRmvqtm22K",
        "colab_type": "code",
        "colab": {
          "base_uri": "https://localhost:8080/",
          "height": 386
        },
        "outputId": "3a3a238b-82be-44bd-f885-5aacdc2e359b"
      },
      "source": [
        "movies.isna().sum()"
      ],
      "execution_count": null,
      "outputs": [
        {
          "output_type": "execute_result",
          "data": {
            "text/plain": [
              "id                          0\n",
              "title                       4\n",
              "tagline                 25845\n",
              "description               995\n",
              "genres                   2524\n",
              "keywords                14889\n",
              "date                       88\n",
              "collection              42054\n",
              "runtime                   268\n",
              "revenue                     4\n",
              "budget                      0\n",
              "director                  917\n",
              "cast                     2491\n",
              "production_companies    12282\n",
              "production_countries     6496\n",
              "popularity                  4\n",
              "average_vote                4\n",
              "num_votes                   4\n",
              "language                   11\n",
              "imdb_id                    17\n",
              "poster_url                399\n",
              "dtype: int64"
            ]
          },
          "metadata": {
            "tags": []
          },
          "execution_count": 5
        }
      ]
    },
    {
      "cell_type": "code",
      "metadata": {
        "id": "9hyOYutWorWd",
        "colab_type": "code",
        "colab": {
          "base_uri": "https://localhost:8080/",
          "height": 702
        },
        "outputId": "8a4502b4-3f6e-4e61-878b-d33773f14575"
      },
      "source": [
        "movies.head()"
      ],
      "execution_count": null,
      "outputs": [
        {
          "output_type": "execute_result",
          "data": {
            "text/html": [
              "<div>\n",
              "<style scoped>\n",
              "    .dataframe tbody tr th:only-of-type {\n",
              "        vertical-align: middle;\n",
              "    }\n",
              "\n",
              "    .dataframe tbody tr th {\n",
              "        vertical-align: top;\n",
              "    }\n",
              "\n",
              "    .dataframe thead th {\n",
              "        text-align: right;\n",
              "    }\n",
              "</style>\n",
              "<table border=\"1\" class=\"dataframe\">\n",
              "  <thead>\n",
              "    <tr style=\"text-align: right;\">\n",
              "      <th></th>\n",
              "      <th>id</th>\n",
              "      <th>title</th>\n",
              "      <th>tagline</th>\n",
              "      <th>description</th>\n",
              "      <th>genres</th>\n",
              "      <th>keywords</th>\n",
              "      <th>date</th>\n",
              "      <th>collection</th>\n",
              "      <th>runtime</th>\n",
              "      <th>revenue</th>\n",
              "      <th>budget</th>\n",
              "      <th>director</th>\n",
              "      <th>cast</th>\n",
              "      <th>production_companies</th>\n",
              "      <th>production_countries</th>\n",
              "      <th>popularity</th>\n",
              "      <th>average_vote</th>\n",
              "      <th>num_votes</th>\n",
              "      <th>language</th>\n",
              "      <th>imdb_id</th>\n",
              "      <th>poster_url</th>\n",
              "    </tr>\n",
              "  </thead>\n",
              "  <tbody>\n",
              "    <tr>\n",
              "      <th>0</th>\n",
              "      <td>862</td>\n",
              "      <td>Toy Story</td>\n",
              "      <td>NaN</td>\n",
              "      <td>Led by Woody, Andy's toys live happily in his ...</td>\n",
              "      <td>animation, comedy, family</td>\n",
              "      <td>jealousy, toy, boy, friendship, friends, rival...</td>\n",
              "      <td>1995-10-30</td>\n",
              "      <td>Toy Story Collection</td>\n",
              "      <td>81.0</td>\n",
              "      <td>373554033.0</td>\n",
              "      <td>30000000</td>\n",
              "      <td>John Lasseter</td>\n",
              "      <td>Tom Hanks, Tim Allen, Don Rickles, Jim Varney,...</td>\n",
              "      <td>Pixar Animation Studios</td>\n",
              "      <td>United States of America</td>\n",
              "      <td>21.946943</td>\n",
              "      <td>7.7</td>\n",
              "      <td>5415.0</td>\n",
              "      <td>en</td>\n",
              "      <td>tt0114709</td>\n",
              "      <td>/rhIRbceoE9lR4veEXuwCC2wARtG.jpg</td>\n",
              "    </tr>\n",
              "    <tr>\n",
              "      <th>1</th>\n",
              "      <td>8844</td>\n",
              "      <td>Jumanji</td>\n",
              "      <td>Roll the dice and unleash the excitement!</td>\n",
              "      <td>When siblings Judy and Peter discover an encha...</td>\n",
              "      <td>adventure, fantasy, family</td>\n",
              "      <td>board game, disappearance, based on children's...</td>\n",
              "      <td>1995-12-15</td>\n",
              "      <td>NaN</td>\n",
              "      <td>104.0</td>\n",
              "      <td>262797249.0</td>\n",
              "      <td>65000000</td>\n",
              "      <td>Joe Johnston</td>\n",
              "      <td>Robin Williams, Jonathan Hyde, Kirsten Dunst, ...</td>\n",
              "      <td>TriStar Pictures, Teitler Film, Interscope Com...</td>\n",
              "      <td>United States of America</td>\n",
              "      <td>17.015539</td>\n",
              "      <td>6.9</td>\n",
              "      <td>2413.0</td>\n",
              "      <td>en</td>\n",
              "      <td>tt0113497</td>\n",
              "      <td>/vzmL6fP7aPKNKPRTFnZmiUfciyV.jpg</td>\n",
              "    </tr>\n",
              "    <tr>\n",
              "      <th>2</th>\n",
              "      <td>15602</td>\n",
              "      <td>Grumpier Old Men</td>\n",
              "      <td>Still Yelling. Still Fighting. Still Ready for...</td>\n",
              "      <td>A family wedding reignites the ancient feud be...</td>\n",
              "      <td>romance, comedy</td>\n",
              "      <td>fishing, best friend, duringcreditsstinger, ol...</td>\n",
              "      <td>1995-12-22</td>\n",
              "      <td>Grumpy Old Men Collection</td>\n",
              "      <td>101.0</td>\n",
              "      <td>0.0</td>\n",
              "      <td>0</td>\n",
              "      <td>Howard Deutch</td>\n",
              "      <td>Walter Matthau, Jack Lemmon, Ann-Margret, Soph...</td>\n",
              "      <td>Warner Bros., Lancaster Gate</td>\n",
              "      <td>United States of America</td>\n",
              "      <td>11.712900</td>\n",
              "      <td>6.5</td>\n",
              "      <td>92.0</td>\n",
              "      <td>en</td>\n",
              "      <td>tt0113228</td>\n",
              "      <td>/6ksm1sjKMFLbO7UY2i6G1ju9SML.jpg</td>\n",
              "    </tr>\n",
              "    <tr>\n",
              "      <th>3</th>\n",
              "      <td>31357</td>\n",
              "      <td>Waiting to Exhale</td>\n",
              "      <td>Friends are the people who let you be yourself...</td>\n",
              "      <td>Cheated on, mistreated and stepped on, the wom...</td>\n",
              "      <td>comedy, drama, romance</td>\n",
              "      <td>based on novel, interracial relationship, sing...</td>\n",
              "      <td>1995-12-22</td>\n",
              "      <td>NaN</td>\n",
              "      <td>127.0</td>\n",
              "      <td>81452156.0</td>\n",
              "      <td>16000000</td>\n",
              "      <td>Forest Whitaker</td>\n",
              "      <td>Whitney Houston, Angela Bassett, Loretta Devin...</td>\n",
              "      <td>Twentieth Century Fox Film Corporation</td>\n",
              "      <td>United States of America</td>\n",
              "      <td>3.859495</td>\n",
              "      <td>6.1</td>\n",
              "      <td>34.0</td>\n",
              "      <td>en</td>\n",
              "      <td>tt0114885</td>\n",
              "      <td>/16XOMpEaLWkrcPqSQqhTmeJuqQl.jpg</td>\n",
              "    </tr>\n",
              "    <tr>\n",
              "      <th>4</th>\n",
              "      <td>11862</td>\n",
              "      <td>Father of the Bride Part II</td>\n",
              "      <td>Just When His World Is Back To Normal... He's ...</td>\n",
              "      <td>Just when George Banks has recovered from his ...</td>\n",
              "      <td>comedy</td>\n",
              "      <td>baby, midlife crisis, confidence, aging, daugh...</td>\n",
              "      <td>1995-02-10</td>\n",
              "      <td>Father of the Bride Collection</td>\n",
              "      <td>106.0</td>\n",
              "      <td>76578911.0</td>\n",
              "      <td>0</td>\n",
              "      <td>Charles Shyer</td>\n",
              "      <td>Steve Martin, Diane Keaton, Martin Short, Kimb...</td>\n",
              "      <td>Sandollar Productions, Touchstone Pictures</td>\n",
              "      <td>United States of America</td>\n",
              "      <td>8.387519</td>\n",
              "      <td>5.7</td>\n",
              "      <td>173.0</td>\n",
              "      <td>en</td>\n",
              "      <td>tt0113041</td>\n",
              "      <td>/e64sOI48hQXyru7naBFyssKFxVd.jpg</td>\n",
              "    </tr>\n",
              "  </tbody>\n",
              "</table>\n",
              "</div>"
            ],
            "text/plain": [
              "      id  ...                        poster_url\n",
              "0    862  ...  /rhIRbceoE9lR4veEXuwCC2wARtG.jpg\n",
              "1   8844  ...  /vzmL6fP7aPKNKPRTFnZmiUfciyV.jpg\n",
              "2  15602  ...  /6ksm1sjKMFLbO7UY2i6G1ju9SML.jpg\n",
              "3  31357  ...  /16XOMpEaLWkrcPqSQqhTmeJuqQl.jpg\n",
              "4  11862  ...  /e64sOI48hQXyru7naBFyssKFxVd.jpg\n",
              "\n",
              "[5 rows x 21 columns]"
            ]
          },
          "metadata": {
            "tags": []
          },
          "execution_count": 6
        }
      ]
    },
    {
      "cell_type": "code",
      "metadata": {
        "id": "0IvyVuTZnDWH",
        "colab_type": "code",
        "colab": {}
      },
      "source": [
        "movies['year']=pd.DatetimeIndex(movies['date']).year"
      ],
      "execution_count": null,
      "outputs": []
    },
    {
      "cell_type": "markdown",
      "metadata": {
        "id": "B1VtxmCxJ-PH",
        "colab_type": "text"
      },
      "source": [
        "# Most profitable production Houses"
      ]
    },
    {
      "cell_type": "code",
      "metadata": {
        "id": "CS6X1QE-opiK",
        "colab_type": "code",
        "colab": {}
      },
      "source": [
        "movies['profit']=(movies['revenue']-movies['budget'])/10**9"
      ],
      "execution_count": null,
      "outputs": []
    },
    {
      "cell_type": "code",
      "metadata": {
        "id": "sRjoF753pEBI",
        "colab_type": "code",
        "colab": {}
      },
      "source": [
        "top_10_production_profit = movies.groupby('production_companies')['profit'].sum().sort_values(ascending=False)[:10]"
      ],
      "execution_count": null,
      "outputs": []
    },
    {
      "cell_type": "code",
      "metadata": {
        "id": "mJdj9CSbpTrG",
        "colab_type": "code",
        "colab": {
          "base_uri": "https://localhost:8080/",
          "height": 318
        },
        "outputId": "83d6dd98-577e-4b65-fa11-fd62faf04b23"
      },
      "source": [
        "plt.figure()\n",
        "top_10_production_profit.plot(kind='barh')\n",
        "plt.xlabel(\"in billions\")\n",
        "plt.title(\"Top 10 Production Houses with highest profits\")"
      ],
      "execution_count": null,
      "outputs": [
        {
          "output_type": "execute_result",
          "data": {
            "text/plain": [
              "Text(0.5, 1.0, 'Top 10 Production Houses with highest profits')"
            ]
          },
          "metadata": {
            "tags": []
          },
          "execution_count": 10
        },
        {
          "output_type": "display_data",
          "data": {
            "image/png": "[encoded data removed]",
            "text/plain": [
              "<Figure size 432x288 with 1 Axes>"
            ]
          },
          "metadata": {
            "tags": [],
            "needs_background": "light"
          }
        }
      ]
    },
    {
      "cell_type": "code",
      "metadata": {
        "id": "ApGFECO86rrj",
        "colab_type": "code",
        "colab": {
          "base_uri": "https://localhost:8080/",
          "height": 34
        },
        "outputId": "b974ea15-c5f1-4cd4-f1db-b71f1f14bf55"
      },
      "source": [
        "after_2000=movies[movies[\"year\"]>2000]\n",
        "after_2000['runtime'].mean()"
      ],
      "execution_count": null,
      "outputs": [
        {
          "output_type": "execute_result",
          "data": {
            "text/plain": [
              "94.17895928550463"
            ]
          },
          "metadata": {
            "tags": []
          },
          "execution_count": 11
        }
      ]
    },
    {
      "cell_type": "markdown",
      "metadata": {
        "id": "e_3-0kNLKPPo",
        "colab_type": "text"
      },
      "source": [
        "\n",
        "\n",
        "---\n",
        "\n",
        "\n",
        "\n",
        "---\n",
        "\n"
      ]
    },
    {
      "cell_type": "markdown",
      "metadata": {
        "id": "Uc6rU6j8JR_O",
        "colab_type": "text"
      },
      "source": [
        "# The 10 most popular Directors."
      ]
    },
    {
      "cell_type": "markdown",
      "metadata": {
        "id": "9a_ECIMdJwzp",
        "colab_type": "text"
      },
      "source": [
        "Average popularity = total popularity / # of movies directed"
      ]
    },
    {
      "cell_type": "code",
      "metadata": {
        "id": "c8HydxCbwtjZ",
        "colab_type": "code",
        "colab": {
          "base_uri": "https://localhost:8080/",
          "height": 360
        },
        "outputId": "9eb8e92a-5b4d-4ba8-9baf-98beb331cceb"
      },
      "source": [
        "directors=pd.DataFrame(movies.groupby(by='director')['popularity'].sum().sort_values(ascending=False))\n",
        "movies_by_directors=pd.DataFrame(movies['director'].value_counts())\n",
        "movies_popularity=pd.merge(directors,movies_by_directors,how='inner',left_index=True,right_index=True)\n",
        "movies_popularity['popularity_average']=movies_popularity['popularity']/movies_popularity['director']\n",
        "movies_popularity.reset_index(inplace=True)\n",
        "movies_popularity.drop(labels=['popularity','director'],axis=1,inplace=True)\n",
        "print(\"Top 10 directors with high popularity averages(total popularity/number of movies)\")\n",
        "movies_popularity.sort_values('popularity_average',ascending=False,)[:10]"
      ],
      "execution_count": null,
      "outputs": [
        {
          "output_type": "stream",
          "text": [
            "Top 10 directors with high popularity averages(total popularity/number of movies)\n"
          ],
          "name": "stdout"
        },
        {
          "output_type": "execute_result",
          "data": {
            "text/html": [
              "<div>\n",
              "<style scoped>\n",
              "    .dataframe tbody tr th:only-of-type {\n",
              "        vertical-align: middle;\n",
              "    }\n",
              "\n",
              "    .dataframe tbody tr th {\n",
              "        vertical-align: top;\n",
              "    }\n",
              "\n",
              "    .dataframe thead th {\n",
              "        text-align: right;\n",
              "    }\n",
              "</style>\n",
              "<table border=\"1\" class=\"dataframe\">\n",
              "  <thead>\n",
              "    <tr style=\"text-align: right;\">\n",
              "      <th></th>\n",
              "      <th>index</th>\n",
              "      <th>popularity_average</th>\n",
              "    </tr>\n",
              "  </thead>\n",
              "  <tbody>\n",
              "    <tr>\n",
              "      <th>35</th>\n",
              "      <td>Tim Miller</td>\n",
              "      <td>187.860492</td>\n",
              "    </tr>\n",
              "    <tr>\n",
              "      <th>10</th>\n",
              "      <td>Patty Jenkins</td>\n",
              "      <td>150.763031</td>\n",
              "    </tr>\n",
              "    <tr>\n",
              "      <th>0</th>\n",
              "      <td>Kyle Balda</td>\n",
              "      <td>120.485962</td>\n",
              "    </tr>\n",
              "    <tr>\n",
              "      <th>20</th>\n",
              "      <td>Chad Stahelski</td>\n",
              "      <td>116.558939</td>\n",
              "    </tr>\n",
              "    <tr>\n",
              "      <th>21</th>\n",
              "      <td>Chris Williams</td>\n",
              "      <td>114.715411</td>\n",
              "    </tr>\n",
              "    <tr>\n",
              "      <th>16</th>\n",
              "      <td>James Gunn</td>\n",
              "      <td>64.326807</td>\n",
              "    </tr>\n",
              "    <tr>\n",
              "      <th>119</th>\n",
              "      <td>Wes Ball</td>\n",
              "      <td>59.081829</td>\n",
              "    </tr>\n",
              "    <tr>\n",
              "      <th>17</th>\n",
              "      <td>Matt Reeves</td>\n",
              "      <td>50.741734</td>\n",
              "    </tr>\n",
              "    <tr>\n",
              "      <th>14</th>\n",
              "      <td>Edgar Wright</td>\n",
              "      <td>46.802535</td>\n",
              "    </tr>\n",
              "    <tr>\n",
              "      <th>42</th>\n",
              "      <td>Anthony Russo</td>\n",
              "      <td>44.050465</td>\n",
              "    </tr>\n",
              "  </tbody>\n",
              "</table>\n",
              "</div>"
            ],
            "text/plain": [
              "              index  popularity_average\n",
              "35       Tim Miller          187.860492\n",
              "10    Patty Jenkins          150.763031\n",
              "0        Kyle Balda          120.485962\n",
              "20   Chad Stahelski          116.558939\n",
              "21   Chris Williams          114.715411\n",
              "16       James Gunn           64.326807\n",
              "119        Wes Ball           59.081829\n",
              "17      Matt Reeves           50.741734\n",
              "14     Edgar Wright           46.802535\n",
              "42    Anthony Russo           44.050465"
            ]
          },
          "metadata": {
            "tags": []
          },
          "execution_count": 12
        }
      ]
    },
    {
      "cell_type": "markdown",
      "metadata": {
        "id": "O0IQRYPCKYpp",
        "colab_type": "text"
      },
      "source": [
        "\n",
        "\n",
        "---\n",
        "\n",
        "\n",
        "\n",
        "---\n",
        "\n"
      ]
    },
    {
      "cell_type": "markdown",
      "metadata": {
        "id": "rxsi-xveU-RU",
        "colab_type": "text"
      },
      "source": [
        "Movies released per month."
      ]
    },
    {
      "cell_type": "code",
      "metadata": {
        "id": "HUEZOnsbCVXv",
        "colab_type": "code",
        "colab": {
          "base_uri": "https://localhost:8080/",
          "height": 370
        },
        "outputId": "7aa49d3e-e503-41cf-e8d6-a5fcf38005fc"
      },
      "source": [
        "movies['month']=pd.DatetimeIndex(movies['date']).month\n",
        "plt.figure(figsize=(8,5))\n",
        "movies['month'].value_counts().sort_index().plot(kind=\"bar\")\n",
        "plt.xlabel(\"Month\")\n",
        "plt.ylabel('# of movies')\n",
        "plt.title('Movies per month')\n",
        "plt.show()\n"
      ],
      "execution_count": null,
      "outputs": [
        {
          "output_type": "display_data",
          "data": {
            "image/png": "[encoded data removed]",
            "text/plain": [
              "<Figure size 576x360 with 1 Axes>"
            ]
          },
          "metadata": {
            "tags": [],
            "needs_background": "light"
          }
        }
      ]
    },
    {
      "cell_type": "markdown",
      "metadata": {
        "id": "9Ii8l1dnUNp2",
        "colab_type": "text"
      },
      "source": [
        "From the plot we can observe that more movies are produced from September to January. January being the month for the most number of movies.\n",
        "The release of movies is less in the period between February to August"
      ]
    },
    {
      "cell_type": "markdown",
      "metadata": {
        "id": "cxqb8J7zVR9E",
        "colab_type": "text"
      },
      "source": [
        "\n",
        "\n",
        "---\n",
        "\n",
        "\n",
        "\n",
        "---\n",
        "\n",
        "\n",
        "\n",
        "---\n",
        "\n"
      ]
    },
    {
      "cell_type": "markdown",
      "metadata": {
        "id": "zH9bWmETVWKy",
        "colab_type": "text"
      },
      "source": [
        "## Movie runtime based on genre"
      ]
    },
    {
      "cell_type": "code",
      "metadata": {
        "id": "oheY1JYIBnKt",
        "colab_type": "code",
        "colab": {}
      },
      "source": [
        "all_genres = [s.split(\", \") for s in movies[movies.genres.notnull()].genres]\n",
        "genres = [item for l in all_genres for item in l ]\n",
        "movies['genres']=movies.genres.str.split(\",\")\n",
        " movies['genres'].replace([np.nan],[' '],inplace=True)\n",
        "L=[]\n",
        "#for i in range(len( movies['best_genre'])):\n",
        "for i, genre in enumerate(movies.genres):\n",
        "         L.append(genre[0])\n",
        "  movies['best_genres']=L\n",
        "genrewise=pd.merge(pd.DataFrame(movies['best_genres'].value_counts()),pd.DataFrame(movies.groupby('best_genres').sum()['popularity']),how='inner',left_index=True,right_index=True)\n",
        "genrewise.columns=['num_movies','popularity_sum']\n",
        "genrewise[\"average_popularity\"]=genrewise['popularity_sum']/genrewise['num_movies']\n",
        "runtime_genre = movies.groupby('best_genres').mean()['runtime'][1:]\n",
        "runtime_genre=runtime_genre"
      ],
      "execution_count": null,
      "outputs": []
    },
    {
      "cell_type": "code",
      "metadata": {
        "id": "5DSGy3m9GTIs",
        "colab_type": "code",
        "colab": {
          "base_uri": "https://localhost:8080/",
          "height": 551
        },
        "outputId": "17d47b28-744e-4239-9570-43d9057f4777"
      },
      "source": [
        "plt.figure(figsize=(13,7))\n",
        "runtime_genre.sort_values(ascending=False).plot(kind='bar')\n",
        "plt.gca().set_ylim([55,115])\n",
        "plt.xlabel('genres')\n",
        "plt.ylabel('Runtime in Minutes')\n",
        "plt.title('Genre wise average runtime of movies')\n",
        "plt.axhline(100,color=\"red\")\n",
        "plt.annotate( \"100 min\",(18,101))"
      ],
      "execution_count": null,
      "outputs": [
        {
          "output_type": "execute_result",
          "data": {
            "text/plain": [
              "Text(18, 101, '100 min')"
            ]
          },
          "metadata": {
            "tags": []
          },
          "execution_count": 59
        },
        {
          "output_type": "display_data",
          "data": {
            "image/png": "[encoded data removed]",
            "text/plain": [
              "<Figure size 936x504 with 1 Axes>"
            ]
          },
          "metadata": {
            "tags": [],
            "needs_background": "light"
          }
        }
      ]
    },
    {
      "cell_type": "code",
      "metadata": {
        "id": "_0lwoHcl0wIn",
        "colab_type": "code",
        "colab": {}
      },
      "source": [
        ""
      ],
      "execution_count": null,
      "outputs": []
    },
    {
      "cell_type": "markdown",
      "metadata": {
        "id": "QM_9sGknI4s6",
        "colab_type": "text"
      },
      "source": [
        "It can be clearly observed that movies from history, drama and adventure had average runtime higher than 100 minutes. While movies in animation genre had the smallest runtime."
      ]
    },
    {
      "cell_type": "code",
      "metadata": {
        "id": "uKDexQdUGanB",
        "colab_type": "code",
        "colab": {}
      },
      "source": [
        ""
      ],
      "execution_count": null,
      "outputs": []
    }
  ]
}